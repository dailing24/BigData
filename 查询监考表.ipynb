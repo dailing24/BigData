{
 "cells": [
  {
   "cell_type": "code",
   "execution_count": 1,
   "id": "153df4c1",
   "metadata": {},
   "outputs": [
    {
     "name": "stdout",
     "output_type": "stream",
     "text": [
      "请输入要查询的名字：代兴莉\n",
      "[2020145120.0, '代兴莉', '2022/11/14', '14:30-16:30', '理一A314', 'hadoop']\n"
     ]
    }
   ],
   "source": [
    "import pandas as pd\n",
    "n=input(\"请输入要查询的名字：\")\n",
    "data1=pd.read_csv(r'F:\\云计算\\作业\\hadoop.csv')\n",
    "data2=pd.read_csv(r'F:\\云计算\\作业\\hive.csv')\n",
    "data3=pd.read_csv(r'F:\\云计算\\作业\\spark.csv')\n",
    "data4=pd.read_csv(r'F:\\云计算\\作业\\高数监考表.csv')\n",
    "data = pd.concat([data1,data2,data3,data4]) #合并几个表格数据\n",
    "list = data.values.tolist() #将数据存为列表形式\n",
    "for i in list:\n",
    "    j=i[1]\n",
    "    if n ==j:\n",
    "        print(i)\n",
    "\n",
    "\n",
    "\n"
   ]
  },
  {
   "cell_type": "code",
   "execution_count": null,
   "id": "a803f3cd",
   "metadata": {},
   "outputs": [],
   "source": []
  }
 ],
 "metadata": {
  "kernelspec": {
   "display_name": "Python 3 (ipykernel)",
   "language": "python",
   "name": "python3"
  },
  "language_info": {
   "codemirror_mode": {
    "name": "ipython",
    "version": 3
   },
   "file_extension": ".py",
   "mimetype": "text/x-python",
   "name": "python",
   "nbconvert_exporter": "python",
   "pygments_lexer": "ipython3",
   "version": "3.9.2"
  }
 },
 "nbformat": 4,
 "nbformat_minor": 5
}
