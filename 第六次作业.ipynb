{
 "cells": [
  {
   "cell_type": "code",
   "execution_count": 21,
   "id": "54686645",
   "metadata": {},
   "outputs": [
    {
     "data": {
      "text/plain": [
       "[('唐雯婕', 819), ('何柃逸', 805), ('赵丹', 791), ('刘丽阳', 784), ('晏巾钧', 777)]"
      ]
     },
     "execution_count": 21,
     "metadata": {},
     "output_type": "execute_result"
    }
   ],
   "source": [
    "import matplotlib\n",
    "matplotlib.use('TkAgg')\n",
    "import matplotlib.pyplot as plt\n",
    "from datascience import *\n",
    "\n",
    "table0 = Table.read_table('./20211108-utf-8.csv',encoding='gbk')\n",
    "table1 = Table.read_table('./20211108-utf-8.csv',encoding='gbk')\n",
    "table2 = Table.read_table('./20211108-utf-8.csv',encoding='gbk')\n",
    "table3 = Table.read_table('./20211108-utf-8.csv',encoding='gbk')\n",
    "table4 = Table.read_table('./20211108-utf-8.csv',encoding='gbk')\n",
    "table5 = Table.read_table('./20211108-utf-8.csv',encoding='gbk')\n",
    "table6 = Table.read_table('./20211108-utf-8.csv',encoding='gbk')\n",
    "\n",
    "table = {}\n",
    "\n",
    "def map(name,path):\n",
    "    a = path.where('姓名',name)\n",
    "    table[a.column(2).item(0)] = {'语文':a.column(3).item(0),'数学':a.column(4).item(0),'英语':a.column(5).item(0),'物理':a.column(6).item(0),'化学':a.column(7).item(0),'生物':a.column(8).item(0),'理综':a.column(9).item(0),'总分':a.column(10).item(0),}\n",
    "\n",
    "for i in range(64):\n",
    "    map(table1[2][i],table1)\n",
    "\n",
    "for i in table.keys():\n",
    "    a = table2.where('姓名',i)\n",
    "    b = table3.where('姓名',i)\n",
    "    c = table4.where('姓名',i)\n",
    "    d = table5.where('姓名',i)\n",
    "    e = table6.where('姓名',i)\n",
    "    f = table7.where('姓名',i)\n",
    "    \n",
    "    table[i]['语文'] = table[i]['语文'] + a.column(3).item(0) + b.column(3).item(0) + c.column(3).item(0) + d.column(3).item(0) + e.column(3).item(0) + f.column(3).item(0)\n",
    "    table[i]['数学'] = table[i]['数学'] + a.column(4).item(0) + b.column(4).item(0) + c.column(4).item(0) + d.column(4).item(0) + e.column(4).item(0) + f.column(4).item(0)\n",
    "    table[i]['英语'] = table[i]['英语'] + a.column(5).item(0) + b.column(5).item(0) + c.column(5).item(0) + d.column(5).item(0) + e.column(5).item(0) + f.column(5).item(0)\n",
    "    table[i]['物理'] = table[i]['物理'] + a.column(6).item(0) + b.column(6).item(0) + c.column(6).item(0) + d.column(6).item(0) + e.column(6).item(0) + f.column(6).item(0)\n",
    "    table[i]['化学'] = table[i]['化学'] + a.column(7).item(0) + b.column(7).item(0) + c.column(7).item(0) + d.column(7).item(0) + e.column(7).item(0) + f.column(7).item(0)\n",
    "    table[i]['生物'] = table[i]['生物'] + a.column(8).item(0) + b.column(8).item(0) + c.column(8).item(0) + d.column(8).item(0) + e.column(8).item(0) + f.column(8).item(0)\n",
    "    table[i]['理综'] = table[i]['理综'] + a.column(9).item(0) + b.column(9).item(0) + c.column(9).item(0) + d.column(9).item(0) + e.column(9).item(0) + f.column(9).item(0)\n",
    "    table[i]['总分'] = table[i]['总分'] + a.column(10).item(0) + b.column(10).item(0) + c.column(10).item(0) + d.column(10).item(0) + e.column(10).item(0) + f.column(10).item(0)\n",
    "    \n",
    "chinese = []\n",
    "math = []\n",
    "english = []\n",
    "physics = []\n",
    "chemistry = []\n",
    "creature = []\n",
    "straightforward = []\n",
    "Sum = []\n",
    "for i in table.keys():\n",
    "    chinese.append((i,table[i]['语文']))\n",
    "    math.append((i,table[i]['数学']))\n",
    "    english.append((i,table[i]['英语']))\n",
    "    physics.append((i,table[i]['物理']))\n",
    "    chemistry.append((i,table[i]['化学']))\n",
    "    creature.append((i,table[i]['生物']))\n",
    "    straightforward.append((i, table[i]['理综']))\n",
    "    Sum.append((i,table[i]['总分']))\n",
    "    \n",
    "    \n",
    "Chinese = sorted(Chinese, key=lambda x: x[1], reverse=True)[0:5]\n",
    "Math = sorted(Math, key=lambda x: x[1], reverse=True)[0:5]\n",
    "English = sorted(English, key=lambda x: x[1], reverse=True)[0:5]\n",
    "Physics_ = sorted(Physics, key=lambda x: x[1], reverse=True)[0:5]\n",
    "Chemistry = sorted(Chemistry, key=lambda x: x[1], reverse=True)[0:5]\n",
    "Creature = sorted(Creature, key=lambda x: x[1], reverse=True)[0:5]\n",
    "Straightforward = sorted(Straightforward, key=lambda x: x[1], reverse=True)[0:5]\n",
    "Sum= sorted(Sum, key=lambda x: x[1], reverse=True)[0:5]\n",
    "\n",
    "Chinese\n"
   ]
  },
  {
   "cell_type": "code",
   "execution_count": 20,
   "id": "2b6ab7ab",
   "metadata": {},
   "outputs": [
    {
     "data": {
      "text/plain": [
       "[('李欣洁', 826), ('陈亭伊', 812), ('潘虓虓', 805), ('陈文慧', 805), ('唐杰', 777)]"
      ]
     },
     "execution_count": 20,
     "metadata": {},
     "output_type": "execute_result"
    }
   ],
   "source": [
    "English"
   ]
  },
  {
   "cell_type": "code",
   "execution_count": null,
   "id": "016f5f35",
   "metadata": {},
   "outputs": [],
   "source": []
  },
  {
   "cell_type": "code",
   "execution_count": null,
   "id": "b09cf6c2",
   "metadata": {},
   "outputs": [],
   "source": []
  },
  {
   "cell_type": "code",
   "execution_count": null,
   "id": "3892477e",
   "metadata": {},
   "outputs": [],
   "source": []
  }
 ],
 "metadata": {
  "kernelspec": {
   "display_name": "Python 3 (ipykernel)",
   "language": "python",
   "name": "python3"
  },
  "language_info": {
   "codemirror_mode": {
    "name": "ipython",
    "version": 3
   },
   "file_extension": ".py",
   "mimetype": "text/x-python",
   "name": "python",
   "nbconvert_exporter": "python",
   "pygments_lexer": "ipython3",
   "version": "3.9.2"
  }
 },
 "nbformat": 4,
 "nbformat_minor": 5
}
